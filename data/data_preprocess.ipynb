{
 "cells": [
  {
   "cell_type": "markdown",
   "metadata": {},
   "source": [
    "### user_history_item_feat"
   ]
  },
  {
   "cell_type": "code",
   "execution_count": null,
   "metadata": {},
   "outputs": [],
   "source": [
    "import numpy as np\n",
    "import torch\n",
    "import torch.nn.functional as F\n",
    "import pandas as pd\n",
    "from tqdm import tqdm\n",
    "\n",
    "dataset = 'baby'\n",
    "inter_data = pd.read_csv('./{}/{}.inter'.format(dataset, dataset), sep='\\t')\n",
    "\n",
    "text_feat = np.load('./{}/text_feat.npy'.format(dataset))\n",
    "image_feat = np.load('./{}/image_feat.npy'.format(dataset))\n",
    "\n",
    "user_histories = {}\n",
    "\n",
    "for index, row in inter_data.iterrows():\n",
    "    user_id = int(row['userID'])\n",
    "\n",
    "    if user_id not in user_histories:\n",
    "        user_histories[user_id] = []\n",
    "    \n",
    "    if row['x_label'] == 0: \n",
    "        user_histories[user_id].append(int(row['itemID']))\n",
    "\n",
    "user_num = len(user_histories)\n",
    "item_num = text_feat.shape[0]\n",
    "\n",
    "norm_item_features_image = F.normalize(torch.tensor(image_feat, dtype=torch.float32), p=2, dim=1)\n",
    "norm_item_features_text = F.normalize(torch.tensor(text_feat, dtype=torch.float32), p=2, dim=1)"
   ]
  },
  {
   "cell_type": "code",
   "execution_count": 3,
   "metadata": {},
   "outputs": [],
   "source": [
    "user_aver_image_history = []\n",
    "user_aver_text_history = []\n",
    "\n",
    "for i in range(user_num):\n",
    "    history_items = user_histories[i]\n",
    "\n",
    "    if len(history_items) == 0:\n",
    "        print(f'user {i} no history')\n",
    "    else:\n",
    "        history_image_feats = norm_item_features_image[history_items]\n",
    "        history_text_feats = norm_item_features_text[history_items]\n",
    "\n",
    "        aver_history_image_feat = torch.mean(history_image_feats, dim=0)\n",
    "        aver_history_text_feat = torch.mean(history_text_feats, dim=0)\n",
    "\n",
    "        user_aver_text_history.append(aver_history_text_feat)\n",
    "        user_aver_image_history.append(aver_history_image_feat)\n",
    "\n",
    "user_aver_text_history = torch.stack(user_aver_text_history)\n",
    "user_aver_image_history = torch.stack(user_aver_image_history)\n",
    "\n",
    "np.save('./{}/{}_user_aver_history_item_text.npy'.format(dataset, dataset), user_his_text_emb)\n",
    "np.save('./{}/{}_user_aver_history_item_image.npy'.format(dataset, dataset), user_his_image_emb)"
   ]
  },
  {
   "cell_type": "markdown",
   "metadata": {},
   "source": [
    "### user_similarity_preference"
   ]
  },
  {
   "cell_type": "code",
   "execution_count": 7,
   "metadata": {},
   "outputs": [],
   "source": [
    "import numpy as np\n",
    "import pandas as pd\n",
    "from collections import defaultdict\n",
    "import matplotlib.pyplot as plt\n",
    "import random\n",
    "import os\n",
    "from scipy import stats\n",
    "from sklearn.metrics.pairwise import cosine_similarity\n",
    "random.seed(999)"
   ]
  },
  {
   "cell_type": "code",
   "execution_count": 9,
   "metadata": {},
   "outputs": [],
   "source": [
    "def average_similarity(similarity_matrix):\n",
    "    np.fill_diagonal(similarity_matrix, np.nan)\n",
    "    mean_similarity = np.nanmean(similarity_matrix)\n",
    "    return mean_similarity\n",
    "\n",
    "dataset = 'baby'\n",
    "\n",
    "text_feat = np.load('./{}/text_feat.npy'.format(dataset))\n",
    "image_feat = np.load('./{}/image_feat.npy'.format(dataset))\n",
    "\n",
    "image_norm = np.linalg.norm(image_feat, axis=1, keepdims=True)\n",
    "text_norm = np.linalg.norm(text_feat, axis=1, keepdims=True)\n",
    "\n",
    "image_feat = image_feat / image_norm\n",
    "text_feat = text_feat / text_norm\n",
    "\n",
    "all_data = pd.read_csv('./{}/{}.inter'.format(dataset, dataset),  sep=\"\\t\")\n",
    "train_data = all_data[all_data['x_label']==0]\n",
    "\n",
    "train_user_inter = defaultdict(list)\n",
    "\n",
    "for _, row in train_data.iterrows():\n",
    "    user, item = int(row[\"userID\"]), int(row[\"itemID\"])\n",
    "    train_user_inter[user].append(item)"
   ]
  },
  {
   "cell_type": "code",
   "execution_count": 10,
   "metadata": {},
   "outputs": [],
   "source": [
    "train_user_inter_image_feat = []\n",
    "train_user_inter_text_feat = []\n",
    "\n",
    "for i in range(user_num):\n",
    "    train_user_inter_image_feat.append(image_feat[train_user_inter[i]])\n",
    "    train_user_inter_text_feat.append(text_feat[train_user_inter[i]])\n",
    "\n",
    "user_train_inter_sim_image = {}\n",
    "user_train_inter_sim_text = {}\n",
    "\n",
    "user_train_inter_sim_image_list = []\n",
    "user_train_inter_sim_text_list = []\n",
    "\n",
    "for i in range(user_num):\n",
    "    if len(train_user_inter[i]) ==  0 :\n",
    "        print(f'user {i} no his')\n",
    "    else:\n",
    "        train_inter_per_user_image_feat = train_user_inter_image_feat[i] # (inter_num, modal_dim)\n",
    "        train_inter_per_user_text_feat = train_user_inter_text_feat[i]\n",
    "\n",
    "        train_image_sim_matrix = cosine_similarity(train_inter_per_user_image_feat)\n",
    "        train_text_sim_matrix = cosine_similarity(train_inter_per_user_text_feat)\n",
    "\n",
    "        aver_image_sim = average_similarity(train_image_sim_matrix)\n",
    "        aver_text_sim = average_similarity(train_text_sim_matrix)\n",
    "\n",
    "        user_train_inter_sim_image[i] = aver_image_sim\n",
    "        user_train_inter_sim_text[i] = aver_text_sim\n",
    "\n",
    "        user_train_inter_sim_image_list.append(aver_image_sim)\n",
    "        user_train_inter_sim_text_list.append(aver_text_sim)\n",
    "\n",
    "user_his_image_pre = np.array(user_train_inter_sim_image_list)\n",
    "user_his_text_pre = np.array( user_train_inter_sim_text_list)\n",
    "\n",
    "np.save('./{}/{}_user_history_image_pre.npy'.format(dataset,dataset), user_his_image_pre)\n",
    "np.save('./{}/{}_user_history_text_pre.npy'.format(dataset,dataset), user_his_text_pre)"
   ]
  }
 ],
 "metadata": {
  "kernelspec": {
   "display_name": "mmgcn",
   "language": "python",
   "name": "python3"
  },
  "language_info": {
   "codemirror_mode": {
    "name": "ipython",
    "version": 3
   },
   "file_extension": ".py",
   "mimetype": "text/x-python",
   "name": "python",
   "nbconvert_exporter": "python",
   "pygments_lexer": "ipython3",
   "version": "3.10.13"
  }
 },
 "nbformat": 4,
 "nbformat_minor": 2
}
